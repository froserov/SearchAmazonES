{
 "cells": [
  {
   "cell_type": "markdown",
   "metadata": {},
   "source": [
    "### **Mustache template y search**\n",
    "\n",
    "Este notebook muestra el desarrollo del template con sus funcionalidades de busqueda y filtrado. Además, se presenta una sección para probar la función search, que posteriormente se incluirá en la app.py de flask"
   ]
  },
  {
   "cell_type": "markdown",
   "metadata": {},
   "source": [
    "**Librerias**"
   ]
  },
  {
   "cell_type": "code",
   "execution_count": 2,
   "metadata": {},
   "outputs": [],
   "source": [
    "from flask import Flask, request, jsonify\n",
    "from elasticsearch import Elasticsearch\n",
    "import json"
   ]
  },
  {
   "cell_type": "markdown",
   "metadata": {},
   "source": [
    "**Configuración de Elasticsearch y Flask**"
   ]
  },
  {
   "cell_type": "code",
   "execution_count": 2,
   "metadata": {},
   "outputs": [],
   "source": [
    "# Establecer conexión ES\n",
    "es = Elasticsearch(\"http://localhost:9200\")\n",
    "# Crear la aplicación Flask\n",
    "app = Flask(__name__)\n"
   ]
  },
  {
   "cell_type": "markdown",
   "metadata": {},
   "source": [
    "### **Endpoint 1: Búsqueda Avanzada con Template Mustache**"
   ]
  },
  {
   "cell_type": "markdown",
   "metadata": {},
   "source": [
    "Se incluye a 2 tipos de variables para ser consultadas en el template, ademas, como parte de la solución del punto 3.4, el template incluye una priorizacion en los resultados a los productos con mejores rating de los clientes y a productos con más de 100 ratings."
   ]
  },
  {
   "cell_type": "markdown",
   "metadata": {},
   "source": [
    "**El template que se creará permitirá hacer búsquedas por nombre de producto (name) usando coincidencia difusa y aplicar filtros exactos por categoría principal (main_category). Se almacena en Elasticsearch con el nombre \"amazon_search_template\" para ser reutilizado en futuras consultas.**"
   ]
  },
  {
   "cell_type": "code",
   "execution_count": 1,
   "metadata": {},
   "outputs": [
    {
     "ename": "NameError",
     "evalue": "name 'es' is not defined",
     "output_type": "error",
     "traceback": [
      "\u001b[1;31m---------------------------------------------------------------------------\u001b[0m",
      "\u001b[1;31mNameError\u001b[0m                                 Traceback (most recent call last)",
      "Cell \u001b[1;32mIn[1], line 24\u001b[0m\n\u001b[0;32m      1\u001b[0m template_body \u001b[38;5;241m=\u001b[39m {\n\u001b[0;32m      2\u001b[0m   \u001b[38;5;124m\"\u001b[39m\u001b[38;5;124mscript\u001b[39m\u001b[38;5;124m\"\u001b[39m: {\n\u001b[0;32m      3\u001b[0m     \u001b[38;5;124m\"\u001b[39m\u001b[38;5;124mlang\u001b[39m\u001b[38;5;124m\"\u001b[39m: \u001b[38;5;124m\"\u001b[39m\u001b[38;5;124mmustache\u001b[39m\u001b[38;5;124m\"\u001b[39m,\n\u001b[1;32m   (...)\u001b[0m\n\u001b[0;32m     20\u001b[0m   }\n\u001b[0;32m     21\u001b[0m }\n\u001b[0;32m     23\u001b[0m \u001b[38;5;66;03m# Crear  template \u001b[39;00m\n\u001b[1;32m---> 24\u001b[0m \u001b[43mes\u001b[49m\u001b[38;5;241m.\u001b[39mput_script(\u001b[38;5;28mid\u001b[39m\u001b[38;5;241m=\u001b[39m\u001b[38;5;124m\"\u001b[39m\u001b[38;5;124mamazon_search_template\u001b[39m\u001b[38;5;124m\"\u001b[39m, body\u001b[38;5;241m=\u001b[39mtemplate_body)\n",
      "\u001b[1;31mNameError\u001b[0m: name 'es' is not defined"
     ]
    }
   ],
   "source": [
    "# template Mustache \n",
    "template_body = {\n",
    "  \"script\": {\n",
    "    \"lang\": \"mustache\",\n",
    "    \"source\": \"\"\"\n",
    "    {\n",
    "      \"query\": {\n",
    "        \"bool\": {\n",
    "          \"must\": [\n",
    "            { \"match\": { \"name\": \"{{search_box}}\" }},\n",
    "            { \"term\": { \"main_category\": \"{{main_category}}\" }}\n",
    "          ],\n",
    "          \"should\": [\n",
    "            { \"range\": { \"ratings\": { \"gte\": 4.0, \"boost\": 2.0 } } },\n",
    "            { \"range\": { \"no_of_ratings\": { \"gte\": 100, \"boost\": 1.5 } } }\n",
    "          ]\n",
    "        }\n",
    "      }\n",
    "    }\n",
    "    \"\"\"\n",
    "  }\n",
    "}\n",
    "\n",
    "# Guardar el template en Elasticsearch\n",
    "template_name = \"amazon_search_template\"\n",
    "es.put_script(id=template_name, body=template_body)\n",
    "print(f\" Template {template_name} creado exitosamente.\")"
   ]
  },
  {
   "cell_type": "code",
   "execution_count": null,
   "metadata": {},
   "outputs": [],
   "source": [
    "def search():\n",
    "    search_box = request.args.get('search_box', '')\n",
    "    main_category = request.args.get('main_category', '')\n",
    "\n",
    "    # Solicitar búsqueda con template\n",
    "    response = es.search_template(\n",
    "        index=\"amazon_products\",\n",
    "        body={\n",
    "            \"id\": \"amazon_search_template\",\n",
    "            \"params\": {\n",
    "                \"search_box\": search_box,\n",
    "                \"main_category\": main_category\n",
    "            }\n",
    "        }\n",
    "    )\n",
    "\n",
    "    # Procesar resultados\n",
    "    results = [\n",
    "        {\n",
    "            \"name\": hit[\"_source\"][\"name\"],\n",
    "            \"ratings\": hit[\"_source\"].get(\"ratings\", \"N/A\"),\n",
    "            \"no_of_ratings\": hit[\"_source\"].get(\"no_of_ratings\", \"N/A\"),\n",
    "            \"discount_price_dolares\": hit[\"_source\"].get(\"discount_price_dolares\", \"N/A\"),\n",
    "            \"actual_price_dolares\": hit[\"_source\"].get(\"actual_price_dolares\", \"N/A\")\n",
    "        }\n",
    "        for hit in response[\"hits\"][\"hits\"]\n",
    "    ]\n",
    "\n",
    "    return jsonify(results)"
   ]
  },
  {
   "cell_type": "markdown",
   "metadata": {},
   "source": [
    "**Probando la función search**"
   ]
  },
  {
   "cell_type": "code",
   "execution_count": null,
   "metadata": {},
   "outputs": [],
   "source": [
    "resultados = search(es, template_name=\"amazon_search_template\", search_box=\"Adidas\", main_category=\"sports & fitness\")\n",
    "# Mostrar los resultados\n",
    "for resultado in resultados[:5]:  # Mostrar solo los 5 primeros resultados\n",
    "    producto = resultado[\"_source\"]\n",
    "    print(f\" Producto: {producto['name']}\")\n",
    "    print(f\" Categoría: {producto['main_category']}\")\n",
    "    print(f\" Precio con Descuento: {producto['discount_price_dolares']}\")\n",
    "    print(f\" Calificación: {producto['ratings']}\")\n",
    "    print(f\" Link: {producto['link']}\\n\")"
   ]
  }
 ],
 "metadata": {
  "kernelspec": {
   "display_name": "Python 3",
   "language": "python",
   "name": "python3"
  },
  "language_info": {
   "codemirror_mode": {
    "name": "ipython",
    "version": 3
   },
   "file_extension": ".py",
   "mimetype": "text/x-python",
   "name": "python",
   "nbconvert_exporter": "python",
   "pygments_lexer": "ipython3",
   "version": "3.11.7"
  }
 },
 "nbformat": 4,
 "nbformat_minor": 2
}
